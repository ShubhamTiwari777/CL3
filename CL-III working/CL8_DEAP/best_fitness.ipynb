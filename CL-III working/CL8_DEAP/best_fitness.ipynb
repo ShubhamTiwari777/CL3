{
 "cells": [
  {
   "cell_type": "code",
   "execution_count": null,
   "id": "ae6bef5a",
   "metadata": {},
   "outputs": [],
   "source": [
    "!pip install deap"
   ]
  },
  {
   "cell_type": "code",
   "execution_count": 1,
   "id": "b458bd32",
   "metadata": {},
   "outputs": [],
   "source": [
    "import random\n",
    "import numpy as np\n",
    "from deap import base, creator, tools, algorithms"
   ]
  },
  {
   "cell_type": "code",
   "execution_count": 2,
   "id": "39b7a883",
   "metadata": {},
   "outputs": [],
   "source": [
    "# Define the fitness function (minimization)\n",
    "creator.create(\"FitnessMin\", base.Fitness, weights=(-1.0,))\n",
    "creator.create(\"Individual\", list, fitness=creator.FitnessMin)\n",
    "\n",
    "# Problem dimensions\n",
    "DIMENSIONS = 10\n",
    "BOUND_LOW, BOUND_UP = 0, 5.0\n",
    "\n",
    "# Toolbox setup\n",
    "toolbox = base.Toolbox()\n",
    "toolbox.register(\"attr_float\", random.uniform, BOUND_LOW, BOUND_UP)\n",
    "toolbox.register(\"individual\", tools.initRepeat, creator.Individual, toolbox.attr_float, n=DIMENSIONS)\n",
    "toolbox.register(\"population\", tools.initRepeat, list, toolbox.individual)\n"
   ]
  },
  {
   "cell_type": "code",
   "execution_count": 3,
   "id": "15e026f2",
   "metadata": {},
   "outputs": [],
   "source": [
    "def evaluate(individual):\n",
    "    return (sum(x**2 for x in individual),)  # Sphere function\n",
    "\n",
    "toolbox.register(\"mate\", tools.cxBlend, alpha=0.5)\n",
    "toolbox.register(\"mutate\", tools.mutGaussian, mu=0, sigma=1, indpb=0.2)\n",
    "toolbox.register(\"select\", tools.selTournament, tournsize=3)\n",
    "toolbox.register(\"evaluate\", evaluate)"
   ]
  },
  {
   "cell_type": "code",
   "execution_count": 4,
   "id": "475b08a7",
   "metadata": {},
   "outputs": [
    {
     "name": "stdout",
     "output_type": "stream",
     "text": [
      "gen\tnevals\tavg    \tmin    \n",
      "0  \t100   \t86.3692\t32.1812\n",
      "1  \t59    \t71.5504\t14.1971\n",
      "2  \t64    \t56.9531\t14.1971\n",
      "3  \t58    \t42.3575\t10.0404\n",
      "4  \t70    \t30.3197\t10.459 \n",
      "5  \t70    \t22.7043\t8.95964\n",
      "6  \t69    \t16.6912\t5.93823\n",
      "7  \t63    \t12.9357\t4.2997 \n",
      "8  \t57    \t10.0355\t4.2997 \n",
      "9  \t62    \t8.48492\t3.72581\n",
      "10 \t70    \t7.43915\t2.7366 \n",
      "11 \t66    \t6.17792\t1.7891 \n",
      "12 \t56    \t5.03771\t2.30836\n",
      "13 \t64    \t4.14533\t1.50336\n",
      "14 \t63    \t3.69626\t1.1191 \n",
      "15 \t50    \t3.20649\t0.617115\n",
      "16 \t57    \t2.73509\t0.899979\n",
      "17 \t61    \t2.30402\t0.668379\n",
      "18 \t64    \t1.81286\t0.475142\n",
      "19 \t59    \t1.58718\t0.475142\n",
      "20 \t55    \t1.31097\t0.332213\n",
      "21 \t63    \t1.09111\t0.332213\n",
      "22 \t51    \t1.19589\t0.33129 \n",
      "23 \t63    \t1.0389 \t0.296473\n",
      "24 \t58    \t0.612036\t0.26359 \n",
      "25 \t66    \t0.804842\t0.251141\n",
      "26 \t59    \t1.096   \t0.19361 \n",
      "27 \t58    \t0.800512\t0.199928\n",
      "28 \t72    \t0.508366\t0.100406\n",
      "29 \t60    \t0.655264\t0.151395\n",
      "30 \t58    \t0.81596 \t0.0503338\n",
      "31 \t67    \t0.76811 \t0.0515648\n",
      "32 \t72    \t0.516778\t0.0438716\n",
      "33 \t59    \t0.536916\t0.0299297\n",
      "34 \t58    \t0.368611\t0.0299297\n",
      "35 \t57    \t0.289472\t0.020265 \n",
      "36 \t52    \t0.489056\t0.020265 \n",
      "37 \t63    \t0.382601\t0.0150312\n",
      "38 \t60    \t0.239812\t0.013498 \n",
      "39 \t55    \t0.422422\t0.0111354\n",
      "40 \t64    \t0.313207\t0.00731956\n",
      "41 \t68    \t0.450435\t0.00477959\n",
      "42 \t61    \t0.316922\t0.00430609\n",
      "43 \t70    \t0.152849\t0.00273325\n",
      "44 \t56    \t0.289483\t0.000977365\n",
      "45 \t56    \t0.323747\t0.000977365\n",
      "46 \t66    \t0.37289 \t0.00192155 \n",
      "47 \t55    \t0.373377\t0.00169045 \n",
      "48 \t63    \t0.193699\t0.0011332  \n",
      "49 \t57    \t0.244071\t0.0011332  \n",
      "50 \t66    \t0.348841\t0.000950828\n",
      "\n",
      "Best Individual: [0.005247634943962123, 0.024041099272049518, -0.005688595152880043, 0.0036759558973332848, 0.011818731773824372, 0.00192539079884105, -0.010460484474170712, -0.0009261742989876981, -0.005269169003269118, -0.004243836299035022]\n",
      "Best Fitness: 0.0009508282665405007\n"
     ]
    }
   ],
   "source": [
    "def main():\n",
    "    random.seed(42)\n",
    "\n",
    "    pop = toolbox.population(n=100)\n",
    "    hof = tools.HallOfFame(1)\n",
    "    stats = tools.Statistics(lambda ind: ind.fitness.values)\n",
    "    stats.register(\"avg\", np.mean)\n",
    "    stats.register(\"min\", np.min)\n",
    "\n",
    "    pop, log = algorithms.eaSimple(pop, toolbox, cxpb=0.5, mutpb=0.2, ngen=50, stats=stats, halloffame=hof, verbose=True)\n",
    "\n",
    "    print(\"\\nBest Individual:\", hof[0])\n",
    "    print(\"Best Fitness:\", hof[0].fitness.values[0])\n",
    "\n",
    "main()\n"
   ]
  },
  {
   "cell_type": "code",
   "execution_count": null,
   "id": "0dd798f4",
   "metadata": {},
   "outputs": [],
   "source": []
  }
 ],
 "metadata": {
  "kernelspec": {
   "display_name": "Python 3",
   "language": "python",
   "name": "python3"
  },
  "language_info": {
   "codemirror_mode": {
    "name": "ipython",
    "version": 3
   },
   "file_extension": ".py",
   "mimetype": "text/x-python",
   "name": "python",
   "nbconvert_exporter": "python",
   "pygments_lexer": "ipython3",
   "version": "3.12.10"
  }
 },
 "nbformat": 4,
 "nbformat_minor": 5
}
